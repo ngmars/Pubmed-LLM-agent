{
 "cells": [
  {
   "cell_type": "code",
   "execution_count": 3,
   "metadata": {},
   "outputs": [],
   "source": [
    "import json"
   ]
  },
  {
   "cell_type": "code",
   "execution_count": 13,
   "metadata": {},
   "outputs": [],
   "source": [
    "import csv"
   ]
  },
  {
   "cell_type": "code",
   "execution_count": 27,
   "metadata": {},
   "outputs": [
    {
     "name": "stdout",
     "output_type": "stream",
     "text": [
      "Requirement already satisfied: lxml in /Library/Frameworks/Python.framework/Versions/3.11/lib/python3.11/site-packages (5.1.0)\n",
      "\n",
      "\u001b[1m[\u001b[0m\u001b[34;49mnotice\u001b[0m\u001b[1;39;49m]\u001b[0m\u001b[39;49m A new release of pip available: \u001b[0m\u001b[31;49m22.3\u001b[0m\u001b[39;49m -> \u001b[0m\u001b[32;49m24.0\u001b[0m\n",
      "\u001b[1m[\u001b[0m\u001b[34;49mnotice\u001b[0m\u001b[1;39;49m]\u001b[0m\u001b[39;49m To update, run: \u001b[0m\u001b[32;49mpip3 install --upgrade pip\u001b[0m\n"
     ]
    }
   ],
   "source": [
    "!pip3 install lxml"
   ]
  },
  {
   "cell_type": "markdown",
   "metadata": {},
   "source": [
    "Ran ```esearch -db pubmed -query \"(\"intelligence\"[Title/Abstract]) AND ((fha[Filter]) AND (2014:2024[pdat]))\" | efetch -format xml > pubmed_results.xml``` in the command line, this saved all the data in pubmed_results.xml file"
   ]
  },
  {
   "cell_type": "code",
   "execution_count": 4,
   "metadata": {},
   "outputs": [],
   "source": [
    "from lxml import etree\n",
    "import json\n",
    "\n",
    "def xml_to_dict(element):\n",
    "    \"\"\"\n",
    "        Function to convert the XML data to a dictionary recursively\n",
    "    \"\"\"\n",
    "    if len(element):\n",
    "        result = {}\n",
    "        for child in element:\n",
    "            child_data = xml_to_dict(child)\n",
    "            if child.tag in result:\n",
    "                if type(result[child.tag]) is list:\n",
    "                    result[child.tag].append(child_data)\n",
    "                else:\n",
    "                    result[child.tag] = [result[child.tag], child_data]\n",
    "            else:\n",
    "                result[child.tag] = child_data\n",
    "        return result\n",
    "    else:\n",
    "        return element.text\n",
    "\n",
    "def xml_to_json(xml_file_path, json_file_path):\n",
    "    \"\"\"\n",
    "        Function to convert XML file to JSON file\n",
    "    \"\"\"\n",
    "    # Parse the XML file\n",
    "    parser = etree.XMLParser(recover=True)\n",
    "    tree = etree.parse(xml_file_path, parser=parser)\n",
    "    root = tree.getroot()\n",
    "\n",
    "    # Convert XML to dictionary\n",
    "    xml_dict = xml_to_dict(root)\n",
    "\n",
    "    # Convert dictionary to JSON\n",
    "    json_data = json.dumps(xml_dict, indent=2)\n",
    "\n",
    "    # Write JSON data to a file\n",
    "    with open(json_file_path, 'w') as json_file:\n",
    "        json_file.write(json_data)\n",
    "\n",
    "xml_file_path = 'pubmed_results.xml' # input XML File\n",
    "json_file_path = 'output.json' # Output JSON file\n",
    "\n",
    "xml_to_json(xml_file_path, json_file_path)\n",
    "\n"
   ]
  },
  {
   "cell_type": "code",
   "execution_count": 5,
   "metadata": {},
   "outputs": [],
   "source": [
    "import json\n",
    "\n",
    "# Open the JSON file\n",
    "with open('output.json', 'r') as file:\n",
    "    # Load JSON data\n",
    "    json_data = json.load(file)\n",
    "\n"
   ]
  },
  {
   "cell_type": "code",
   "execution_count": 6,
   "metadata": {},
   "outputs": [
    {
     "data": {
      "text/plain": [
       "60503"
      ]
     },
     "execution_count": 6,
     "metadata": {},
     "output_type": "execute_result"
    }
   ],
   "source": [
    "# check how many articles we have\n",
    "len(json_data[\"PubmedArticle\"])"
   ]
  },
  {
   "cell_type": "code",
   "execution_count": 16,
   "metadata": {},
   "outputs": [],
   "source": [
    "def extract_required_keys(dictionary, extracted_data):\n",
    "    \"\"\"\n",
    "        Function recursively checks the dictionary for the required keys and returns\n",
    "        a new dictionary with only the extracted keys\n",
    "\n",
    "        :param dictionary [type:Dict] - contains data pertaining to one PUBMED article\n",
    "        :param extracted_data [type:Dict] - contains extracted data\n",
    "\n",
    "        :return  extracted_data [type:Dict] - contains extracted data\n",
    "    \"\"\"\n",
    "    \n",
    "    for key, value in dictionary.items():\n",
    "        if(key == \"PMID\"):\n",
    "            extracted_data[\"PMID\"] = value\n",
    "        if(key == \"ArticleTitle\"):\n",
    "            extracted_data[\"title\"] = value\n",
    "        if(key == \"doi\"):\n",
    "            extracted_data[\"ELocationID\"] = value\n",
    "        if(key == \"AbstractText\"):\n",
    "            extracted_data[\"text\"] = value\n",
    "        if(key == \"AuthorList\"):\n",
    "            author_list = []\n",
    "            for child in value[\"Author\"]:\n",
    "                if(\"ForeName\" in child and \"LastName\" in child):\n",
    "                    author_name=str(child[\"ForeName\"])+\" \"+str(child[\"LastName\"])\n",
    "                    author_list.append(author_name)\n",
    "            extracted_data[\"authors\"] = author_list\n",
    "        if isinstance(value, dict):\n",
    "            extract_required_keys(value,extracted_data)\n",
    "    return extracted_data"
   ]
  },
  {
   "cell_type": "code",
   "execution_count": 17,
   "metadata": {},
   "outputs": [],
   "source": [
    "def writeDataToCSVFile(data, abstract_filename):\n",
    "  \"\"\"\n",
    "    Function to write the extracted data to a CSV file\n",
    "  \"\"\"\n",
    "  # name of csv file\n",
    "  filename = abstract_filename\n",
    "  #writing to csv file\n",
    "  with open(filename, 'a') as csvfile:\n",
    "    #creating a csv writer object\n",
    "    csvwriter = csv.writer(csvfile)\n",
    "\n",
    "    # writing the data rows\n",
    "    csvwriter.writerows([[data[\"PMID\"], data[\"doi\"], data[\"authors\"], data[\"title\"], data[\"text\"]]])"
   ]
  },
  {
   "cell_type": "code",
   "execution_count": 15,
   "metadata": {},
   "outputs": [],
   "source": [
    "# Dictionary to store the desired information\n",
    "result_dict = []\n",
    "for entry in json_data[\"PubmedArticle\"]:\n",
    "    extracted_data= {\n",
    "        \"PMID\":\"\",\n",
    "      \"doi\":\"\",\n",
    "      \"authors\":\"\",\n",
    "      \"title\":\"\",\n",
    "      \"text\":\"\"\n",
    "    }\n",
    "    my_data = extract_required_keys(entry,extracted_data) # get the extracted data\n",
    "    result_dict.append(my_data) # append extracted data to a local array for inspection\n",
    "    writeDataToCSVFile(my_data,\"extracted_outputs.csv\") #apped extracted data to a CSV file"
   ]
  },
  {
   "cell_type": "code",
   "execution_count": null,
   "metadata": {},
   "outputs": [
    {
     "data": {
      "text/plain": [
       "60503"
      ]
     },
     "execution_count": 13,
     "metadata": {},
     "output_type": "execute_result"
    }
   ],
   "source": [
    "len(result_dict)"
   ]
  },
  {
   "cell_type": "code",
   "execution_count": null,
   "metadata": {},
   "outputs": [
    {
     "data": {
      "text/plain": [
       "{'PMID': '23480642',\n",
       " 'title': 'The analysis of challenging relations: influences on interactive behaviour of staff towards clients with intellectual disabilities.',\n",
       " 'text': ['Relationships between support staff and clients with intellectual disability (ID) are important for quality of care, especially when dealing with challenging behaviour. Building upon an interpersonal model, this study investigates the influence of client challenging behaviour, staff attitude and staff emotional intelligence on interactive behaviour of one of these relationship partners, being support staff.',\n",
       "  'A total of 158 support staff members completed a questionnaire on staff interactive behaviour for 158 clients with ID and challenging behaviour, as well as two questionnaires on staff interpersonal attitude and emotional intelligence.',\n",
       "  'Confronted with challenging behaviour as opposed to no challenging behaviour, staff reported less friendly, more assertive control and less support-seeking interpersonal behaviour. Also, staff used more proactive thinking and more self-reflection in dealing with challenging behaviour. Staff interpersonal attitude in general, mainly a harsh-dominant-resentful attitude, had a significant influence on most staff interactive behaviours towards an individual client with challenging behaviour. The influence of staff emotional intelligence, specifically intrapersonal abilities, on staff interactive behaviour towards an individual client with challenging behaviour was somewhat limited.',\n",
       "  'This research supports the necessity for training staff in general interpersonal attitudes towards clients as well as training in intrapersonal emotional intelligence, when confronted with challenging behaviour. Future research should focus more on the bidirectional dynamics of staff and client interactions.'],\n",
       " 'authors': ['A P A M Willems',\n",
       "  'P J C M Embregts',\n",
       "  'A M T Bosman',\n",
       "  'A H C Hendriks']}"
      ]
     },
     "execution_count": 14,
     "metadata": {},
     "output_type": "execute_result"
    }
   ],
   "source": [
    "result_dict[32]"
   ]
  },
  {
   "cell_type": "code",
   "execution_count": null,
   "metadata": {},
   "outputs": [
    {
     "data": {
      "text/plain": [
       "{'PMID': '22442254',\n",
       " 'title': 'Academic procrastination, emotional intelligence, academic self-efficacy, and GPA: a comparison between students with and without learning disabilities.',\n",
       " 'text': \"Academic procrastination has been seen as an impediment to students' academic success. Research findings suggest that it is related to lower levels of self-regulated learning and academic self-efficacy and associated with higher levels of anxiety, stress, and illness. Emotional intelligence (EI) is the ability to assess, regulate, and utilize emotions and has been found to be associated with academic self-efficacy and a variety of better outcomes, including academic performance. Students with learning disabilities (LD) are well acquainted with academic difficulty and maladaptive academic behavior. In comparison to students without LD, they exhibit high levels of learned helplessness, including diminished persistence, lower academic expectations, and negative affect. This study examined the relationships among academic procrastination, EI, and academic performance as mediated by academic self-efficacy in 287 LD and non-LD students. Results indicated that the indirect effect of EI on academic procrastination and GPA was stronger in LD students than in non-LD students. In addition, results indicated that LD students scored lower than non-LD students on both EI and academic self-efficacy and higher on academic procrastination. No difference was found in GPA.\",\n",
       " 'authors': ['Meirav Hen', 'Marina Goroshit']}"
      ]
     },
     "execution_count": 15,
     "metadata": {},
     "output_type": "execute_result"
    }
   ],
   "source": [
    "result_dict[1]"
   ]
  },
  {
   "cell_type": "code",
   "execution_count": null,
   "metadata": {},
   "outputs": [],
   "source": []
  }
 ],
 "metadata": {
  "kernelspec": {
   "display_name": "Python 3",
   "language": "python",
   "name": "python3"
  },
  "language_info": {
   "codemirror_mode": {
    "name": "ipython",
    "version": 3
   },
   "file_extension": ".py",
   "mimetype": "text/x-python",
   "name": "python",
   "nbconvert_exporter": "python",
   "pygments_lexer": "ipython3",
   "version": "3.11.0"
  }
 },
 "nbformat": 4,
 "nbformat_minor": 2
}
