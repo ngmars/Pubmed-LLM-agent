{
  "nbformat": 4,
  "nbformat_minor": 0,
  "metadata": {
    "colab": {
      "private_outputs": true,
      "provenance": [],
      "mount_file_id": "1yGa_CwnAbVZBEHRlHJXIDXhe3p0V5wiG",
      "authorship_tag": "ABX9TyPZ5q+NP0d1Bkm6aGYzJ7RF",
      "include_colab_link": true
    },
    "kernelspec": {
      "name": "python3",
      "display_name": "Python 3"
    },
    "language_info": {
      "name": "python"
    }
  },
  "cells": [
    {
      "cell_type": "markdown",
      "metadata": {
        "id": "view-in-github",
        "colab_type": "text"
      },
      "source": [
        "<a href=\"https://colab.research.google.com/github/ngmars/Group35-INLPT-WS2023/blob/nitish_dev_test/data_extraction.ipynb\" target=\"_parent\"><img src=\"https://colab.research.google.com/assets/colab-badge.svg\" alt=\"Open In Colab\"/></a>"
      ]
    },
    {
      "cell_type": "code",
      "source": [
        "import pandas as pd"
      ],
      "metadata": {
        "id": "XwGM36jtcK-Z"
      },
      "execution_count": null,
      "outputs": []
    },
    {
      "cell_type": "code",
      "source": [
        "abstract_data_dataframe = pd.DataFrame(columns=['doi', 'title', 'authors', 'text'])"
      ],
      "metadata": {
        "id": "EH73WNO7cOPK"
      },
      "execution_count": null,
      "outputs": []
    },
    {
      "cell_type": "code",
      "source": [
        "\n"
      ],
      "metadata": {
        "id": "puZSC_7hq7KU"
      },
      "execution_count": null,
      "outputs": []
    },
    {
      "cell_type": "code",
      "execution_count": null,
      "metadata": {
        "id": "pLh6-onjRU_5"
      },
      "outputs": [],
      "source": [
        "for i in range(0,1):\n",
        "    file = open(f\"/content/drive/MyDrive/NLPT(Abstract Data)/abstracts-original/abstract-intelligen-set (1).txt\", 'r', encoding=\"utf-8\")\n",
        "    text = file.readlines()\n",
        "    count = 0\n",
        "    list_1 = []\n",
        "    extracted_abstracts = []\n",
        "    newLine = True\n",
        "    for line in text:\n",
        "      if line == \"\\n\":\n",
        "        newLine = True\n",
        "        count +=1\n",
        "        if count ==2:\n",
        "            count = 0\n",
        "            for row in list_1:\n",
        "                extracted_abstracts.append(list_1)\n",
        "            list_1 = []\n",
        "      else:\n",
        "          lineData = line\n",
        "          skip_append_flag = False\n",
        "\n",
        "          # Extract DOI as a seperate item\n",
        "          if(lineData.startswith(\"DOI:\")):\n",
        "            lineData = lineData.replace(\"DOI:\", \"\")\n",
        "\n",
        "          #Extract PMID as a seperate item\n",
        "          if(lineData.startswith(\"PMID:\")):\n",
        "            lineData = lineData.replace(\"PMID:\", \"\")\n",
        "            lineData = lineData.replace(\"[Indexed for MEDLINE]\", \"\")\n",
        "            list_1.append(lineData.rstrip().lstrip())\n",
        "            skip_append_flag = True\n",
        "\n",
        "          # Extract publication name --- future work\n",
        "          # Extract date published --- future\n",
        "          if(not skip_append_flag):\n",
        "            if(newLine==False):\n",
        "              lineData = list_1[-1] +\" \"+ lineData.rstrip().lstrip()\n",
        "              list_1[-1] = lineData\n",
        "            else:\n",
        "              list_1.append(lineData.rstrip().lstrip())\n",
        "\n",
        "          count = 0\n",
        "          newLine=False\n",
        "          skip_append_flag = False\n",
        ""
      ]
    },
    {
      "cell_type": "code",
      "source": [
        "extracted_abstracts[2]"
      ],
      "metadata": {
        "id": "4qqDUfjYemCD"
      },
      "execution_count": null,
      "outputs": []
    }
  ]
}