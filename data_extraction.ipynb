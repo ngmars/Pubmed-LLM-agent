{
  "nbformat": 4,
  "nbformat_minor": 0,
  "metadata": {
    "colab": {
      "private_outputs": true,
      "provenance": [],
      "mount_file_id": "1yGa_CwnAbVZBEHRlHJXIDXhe3p0V5wiG",
      "authorship_tag": "ABX9TyOpxIHmgnGeJNGF/DuYGYTe",
      "include_colab_link": true
    },
    "kernelspec": {
      "name": "python3",
      "display_name": "Python 3"
    },
    "language_info": {
      "name": "python"
    }
  },
  "cells": [
    {
      "cell_type": "markdown",
      "metadata": {
        "id": "view-in-github",
        "colab_type": "text"
      },
      "source": [
        "<a href=\"https://colab.research.google.com/github/ngmars/Group35-INLPT-WS2023/blob/nitish_dev_test/data_extraction.ipynb\" target=\"_parent\"><img src=\"https://colab.research.google.com/assets/colab-badge.svg\" alt=\"Open In Colab\"/></a>"
      ]
    },
    {
      "cell_type": "code",
      "source": [
        "import pandas as pd\n",
        "import re"
      ],
      "metadata": {
        "id": "XwGM36jtcK-Z"
      },
      "execution_count": null,
      "outputs": []
    },
    {
      "cell_type": "code",
      "source": [
        "abstract_data_dataframe = pd.DataFrame(columns=['PMID','doi', 'title', 'authors', 'text'])"
      ],
      "metadata": {
        "id": "EH73WNO7cOPK"
      },
      "execution_count": null,
      "outputs": []
    },
    {
      "cell_type": "code",
      "source": [
        "def blind_extraction(text):\n",
        "  for line in text:\n",
        "    if line == \"\\n\":\n",
        "      newLine = True\n",
        "      count +=1\n",
        "      if count ==2:\n",
        "          count = 0\n",
        "          print(list_1)\n",
        "          extracted_abstracts.append({\n",
        "              'PMID': list_1[5],\n",
        "              'doi': list_1[4],\n",
        "              'title': list_1[1],\n",
        "              'authors': list_1[2],\n",
        "              'text': list_1[3],\n",
        "          })\n",
        "          list_1 = []\n",
        "    else:\n",
        "        lineData = line\n",
        "        skip_append_flag = False\n",
        "\n",
        "        # Extract DOI as a seperate item\n",
        "        if(lineData.startswith(\"DOI:\")):\n",
        "          lineData = lineData.replace(\"DOI:\", \"\")\n",
        "\n",
        "        #Extract PMID as a seperate item\n",
        "        if(lineData.startswith(\"PMID:\")):\n",
        "          lineData = lineData.replace(\"PMID:\", \"\")\n",
        "          lineData = lineData.replace(\"[Indexed for MEDLINE]\", \"\")\n",
        "          list_1.append(lineData.rstrip().lstrip())\n",
        "          skip_append_flag = True\n",
        "\n",
        "        if(lineData.startswith(\"Copyright\")):\n",
        "          skip_append_flag = True\n",
        "\n",
        "        if(lineData.startswith(\"Author information:\")):\n",
        "          skip_append_flag = True\n",
        "        # Extract publication name --- future work\n",
        "        # Extract date published --- future work\n",
        "\n",
        "        if(not skip_append_flag):\n",
        "          if(newLine==False):\n",
        "            lineData = list_1[-1] +\" \"+ lineData.rstrip().lstrip()\n",
        "            list_1[-1] = lineData\n",
        "          else:\n",
        "            list_1.append(lineData.rstrip().lstrip())\n",
        "\n",
        "        count = 0\n",
        "        newLine=False"
      ],
      "metadata": {
        "id": "puZSC_7hq7KU"
      },
      "execution_count": null,
      "outputs": []
    },
    {
      "cell_type": "markdown",
      "source": [
        "<Element 'PubmedArticleSet' at 0x7e85419cce50> <br/>\n",
        "<Element 'PubmedArticle' at 0x7e85419cd350>  <br/>\n",
        "<Element 'MedlineCitation' at 0x7e85419cd3f0> <br/>\n",
        "<Element 'PMID' at 0x7e85419cd440> <br/>\n",
        "<Element 'DateCompleted' at 0x7e85419cce00> <br/>\n",
        "<Element 'Year' at 0x7e85419cd490> <br/>\n",
        "<Element 'Month' at 0x7e85419cd4e0> <br/>\n",
        "<Element 'Day' at 0x7e85419cd530> <br/>\n",
        "<Element 'DateRevised' at 0x7e85419cd580> <br/>\n",
        "<Element 'Year' at 0x7e85419cd5d0> <br/>\n",
        "<Element 'Month' at 0x7e85419cd620> <br/>\n",
        "<Element 'Day' at 0x7e85419cd670> <br/>\n",
        "<Element 'Article' at 0x7e85419cd710> <br/>\n",
        "<Element 'Journal' at 0x7e85419cd760> <br/>\n",
        "<Element 'ISSN' at 0x7e85419cd7b0> <br/>\n",
        "<Element 'JournalIssue' at 0x7e85419cd800> <br/>\n",
        "<Element 'Volume' at 0x7e85419cd850> <br/>\n",
        "<Element 'Issue' at 0x7e85419cd8a0> <br/>\n",
        "<Element 'PubDate' at 0x7e85419cd8f0> <br/>\n",
        "<Element 'Year' at 0x7e85419cd940>  <br/>\n",
        "<Element 'Month' at 0x7e85419cd990> <br/>\n",
        "<Element 'Title' at 0x7e85419cd9e0> <br/>\n",
        "<Element 'ISOAbbreviation' at 0x7e85419cda80> <br/>\n",
        "<Element 'ArticleTitle' at 0x7e85419cdb20> <br/>\n",
        "<Element 'Pagination' at 0x7e85419cdb70> <br/>\n",
        "<Element 'StartPage' at 0x7e85419cdbc0> <br/>\n",
        "<Element 'MedlinePgn' at 0x7e85419cdc10> <br/>\n",
        "<Element 'ELocationID' at 0x7e85419cdc60> <br/>\n",
        "<Element 'ELocationID' at 0x7e85419cdd00> <br/>\n",
        "<Element 'Abstract' at 0x7e85419cdda0> <br/>\n",
        "<Element 'AbstractText' at 0x7e85419cddf0> <br/>\n",
        "<Element 'CopyrightInformation' at 0x7e85419cde90> <br/>\n",
        "<Element 'AuthorList' at 0x7e85419cdee0> <br/>\n",
        "<Element 'Author' at 0x7e85419cdf30> <br/>\n",
        "<Element 'LastName' at 0x7e85419cdf80> <br/>\n",
        "<Element 'ForeName' at 0x7e85419cdfd0> <br/>\n",
        "<Element 'Initials' at 0x7e85419ce020> <br/>\n",
        "<Element 'AffiliationInfo' at 0x7e85419ce070> <br/>\n",
        "<Element 'Affiliation' at 0x7e85419ce0c0> <br/>\n",
        "<Element 'Author' at 0x7e85419ce110> <br/>\n",
        "<Element 'LastName' at 0x7e85419ce160> <br/>\n",
        "<Element 'ForeName' at 0x7e85419ce1b0> <br/>\n",
        "<Element 'Initials' at 0x7e85419ce200> <br/>\n",
        "<Element 'AffiliationInfo' at 0x7e85419ce250> <br/>\n",
        "<Element 'Affiliation' at 0x7e85419ce2a0> <br/>\n",
        "<Element 'Language' at 0x7e85419ce2f0> <br/>\n",
        "<Element 'PublicationTypeList' at 0x7e85419ce390> <br/>\n",
        "<Element 'PublicationType' at 0x7e85419ce3e0> <br/>\n",
        "<Element 'PublicationType' at 0x7e85419ce430> <br/>\n",
        "<Element 'PublicationType' at 0x7e85419ce480> <br/>\n",
        "<Element 'ArticleDate' at 0x7e85419ce4d0> <br/>\n",
        "<Element 'Year' at 0x7e85419ce520> <br/>\n",
        "<Element 'Month' at 0x7e85419ce570> <br/>\n",
        "<Element 'Day' at 0x7e85419ce5c0> <br/>\n",
        "<Element 'MedlineJournalInfo' at 0x7e85419ce660> <br/>\n",
        "<Element 'Country' at 0x7e85419ce6b0> <br/>\n",
        "<Element 'MedlineTA' at 0x7e85419ce700> <br/>\n",
        "<Element 'NlmUniqueID' at 0x7e85419ce7a0> <br/>\n",
        "<Element 'ISSNLinking' at 0x7e85419ce7f0> <br/>\n",
        "<Element 'CitationSubset' at 0x7e85419ce840> <br/>\n",
        "<Element 'MeshHeadingList' at 0x7e85419ce890> <br/>\n",
        "<Element 'MeshHeading' at 0x7e85419ce8e0> <br/>\n",
        "<Element 'DescriptorName' at 0x7e85419ce930> <br/>\n",
        "<Element 'MeshHeading' at 0x7e85419ce9d0> <br/>\n",
        "<Element 'DescriptorName' at 0x7e85419cea20> <br/>\n",
        "<Element 'QualifierName' at 0x7e85419cea70> <br/>\n",
        "<Element 'MeshHeading' at 0x7e85419ceac0> <br/>\n",
        "<Element 'DescriptorName' at 0x7e85419ceb10> <br/>\n",
        "<Element 'MeshHeading' at 0x7e85419cebb0> <br/>\n",
        "<Element 'DescriptorName' at 0x7e85419cec00> <br/>\n",
        "<Element 'MeshHeading' at 0x7e85419cec50> <br/>\n",
        "<Element 'DescriptorName' at 0x7e85419ceca0> <br/>\n",
        "<Element 'KeywordList' at 0x7e85419cecf0> <br/>\n",
        "<Element 'Keyword' at 0x7e85419ced40> <br/>\n",
        "<Element 'Keyword' at 0x7e85419ced90> <br/>\n",
        "<Element 'Keyword' at 0x7e85419cee30> <br/>\n",
        "<Element 'Keyword' at 0x7e85419ceed0> <br/>\n",
        "<Element 'Keyword' at 0x7e85419cef20> <br/>\n",
        "<Element 'Keyword' at 0x7e85419cef70> <br/>\n",
        "<Element 'PubmedData' at 0x7e85419cf010> <br/>\n",
        "<Element 'History' at 0x7e85419cf060> <br/>\n",
        "<Element 'PubMedPubDate' at 0x7e85419cf0b0> <br/>\n",
        "<Element 'Year' at 0x7e85419cf100> <br/>\n",
        "<Element 'Month' at 0x7e85419cf150> <br/>\n",
        "<Element 'Day' at 0x7e85419cf1a0> <br/>\n",
        "<Element 'PubMedPubDate' at 0x7e85419cf1f0> <br/>\n",
        "<Element 'Year' at 0x7e85419cf240> <br/>\n",
        "<Element 'Month' at 0x7e85419cf290> <br/>\n",
        "<Element 'Day' at 0x7e85419cf2e0> <br/>\n",
        "<Element 'PubMedPubDate' at 0x7e85419cf330> <br/>\n",
        "<Element 'Year' at 0x7e85419cf380> <br/>\n",
        "<Element 'Month' at 0x7e85419cf3d0> <br/>\n",
        "<Element 'Day' at 0x7e85419cf420> <br/>\n",
        "<Element 'PubMedPubDate' at 0x7e85419cf470> <br/>\n",
        "<Element 'Year' at 0x7e85419cf4c0> <br/>\n",
        "<Element 'Month' at 0x7e85419cf510> <br/>\n",
        "<Element 'Day' at 0x7e85419cf560> <br/>\n",
        "<Element 'Hour' at 0x7e85419cf5b0> <br/>\n",
        "<Element 'Minute' at 0x7e85419cf600> <br/>\n",
        "<Element 'PubMedPubDate' at 0x7e85419cf650> <br/>\n",
        "<Element 'Year' at 0x7e85419cf6a0> <br/>\n",
        "<Element 'Month' at 0x7e85419cf6f0> <br/>\n",
        "<Element 'Day' at 0x7e85419cf740> <br/>\n",
        "<Element 'Hour' at 0x7e85419cf790> <br/>\n",
        "<Element 'Minute' at 0x7e85419cf7e0> <br/>\n",
        "<Element 'PubMedPubDate' at 0x7e85419cf830> <br/>\n",
        "<Element 'Year' at 0x7e85419cf880> <br/>\n",
        "<Element 'Month' at 0x7e85419cf8d0> <br/>\n",
        "<Element 'Day' at 0x7e85419cf920> <br/>\n",
        "<Element 'Hour' at 0x7e85419cf970> <br/>\n",
        "<Element 'Minute' at 0x7e85419cf9c0> <br/>\n",
        "<Element 'PublicationStatus' at 0x7e85419cfa60> <br/>\n",
        "<Element 'ArticleIdList' at 0x7e85419cfab0> <br/>\n",
        "<Element 'ArticleId' at 0x7e85419cfb00> <br/>\n",
        "<Element 'ArticleId' at 0x7e85419cfb50> <br/>\n",
        "<Element 'ArticleId' at 0x7e85419cfbf0> <br/>"
      ],
      "metadata": {
        "id": "UgF6VCQ12TTY"
      }
    },
    {
      "cell_type": "code",
      "source": [
        "def recoverDataFromXML(XML_data):\n",
        "  extracted_data = {}\n",
        "  tree = ET.ElementTree(ET.fromstring(XML_data))\n",
        "  for elem in tree.iter():\n",
        "    print(elem)\n",
        "    if(elem.tag == \"ArticleTitle\"):\n",
        "      extracted_data[\"title\"] = elem.text"
      ],
      "metadata": {
        "id": "Ggh--Cx50yRj"
      },
      "execution_count": null,
      "outputs": []
    },
    {
      "cell_type": "code",
      "source": [
        "import requests\n",
        "import xml.etree.ElementTree as ET\n",
        "def getAbstractData(pmID) :\n",
        "  # api-endpoint\n",
        "  URL = f\"https://eutils.ncbi.nlm.nih.gov/entrez/eutils/efetch.fcgi?db=pubmed&id={pmID}&retmode=XML&rettype=abstract\"\n",
        "\n",
        "  # sending get request and saving the response as response object\n",
        "  r = requests.get(url = URL)\n",
        "  recoverDataFromXML(r.text)\n",
        ""
      ],
      "metadata": {
        "id": "CaRBT8Mbx5MO"
      },
      "execution_count": null,
      "outputs": []
    },
    {
      "cell_type": "code",
      "source": [
        "getAbstractData(\"36736583\")"
      ],
      "metadata": {
        "id": "8rda-rV0yjBV"
      },
      "execution_count": null,
      "outputs": []
    },
    {
      "cell_type": "code",
      "execution_count": null,
      "metadata": {
        "id": "pLh6-onjRU_5"
      },
      "outputs": [],
      "source": [
        "for i in range(0,1):\n",
        "    file = open(f\"/content/drive/MyDrive/NLPT(Abstract Data)/abstracts-original/abstract-intelligen-set (1).txt\", 'r', encoding=\"utf-8\")\n",
        "    text = file.readlines()\n",
        "    count = 0\n",
        "    list_1 = []\n",
        "    chunk_abstracts = []\n",
        "    newLine = True\n",
        "    for line in text:\n",
        "      # if a line starts with a number and contains the word DOI, it means the start\n",
        "      # of a new abstract\n",
        "      # if(re.search(r'\\(\\d+\\).*doi:*', line)):\n",
        "      #   print(\"start of new abstract\")\n",
        "      #   print(line)\n",
        "      if line == \"\\n\":\n",
        "        newLine = True\n",
        "        count +=1\n",
        "        if count ==2:\n",
        "          count = 0\n",
        "          chunk_abstracts.append(list_1)\n",
        "          list_1 = []\n",
        "      else:\n",
        "        count = 0\n",
        "        lineData = line\n",
        "        #Extract PMID as a seperate item\n",
        "        if(lineData.startswith(\"PMID:\")):\n",
        "          lineData = lineData.replace(\"PMID:\", \"\")\n",
        "          lineData = lineData.replace(\"[Indexed for MEDLINE]\", \"\")\n",
        "          list_1.append(lineData.rstrip().lstrip())\n",
        "\n",
        "\n",
        "\n",
        "\n",
        "\n",
        ""
      ]
    },
    {
      "cell_type": "code",
      "source": [
        "len(chunk_abstracts)"
      ],
      "metadata": {
        "id": "S2xMkvK2wCiD"
      },
      "execution_count": null,
      "outputs": []
    }
  ]
}